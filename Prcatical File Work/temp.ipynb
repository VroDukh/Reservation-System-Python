{
 "cells": [
  {
   "cell_type": "code",
   "execution_count": 16,
   "metadata": {},
   "outputs": [
    {
     "name": "stdout",
     "output_type": "stream",
     "text": [
      "['', '', ' Python Programming ', '', '']\n"
     ]
    }
   ],
   "source": [
    "print((\"@@ Python Programming @@\").split(\"@\"))"
   ]
  },
  {
   "cell_type": "code",
   "execution_count": 15,
   "metadata": {},
   "outputs": [
    {
     "name": "stdout",
     "output_type": "stream",
     "text": [
      "['Year ', '0', '', ' at All the best']\n",
      "Year . 0.  at All the best\n"
     ]
    }
   ],
   "source": [
    "a = \"Year 2022 at All the best\"\n",
    "a = a.split('2')\n",
    "print(a)\n",
    "b = a[0] + \". \" + a[1] + \". \" + a[3]\n",
    "print(b)"
   ]
  },
  {
   "cell_type": "code",
   "execution_count": 29,
   "metadata": {},
   "outputs": [
    {
     "name": "stdout",
     "output_type": "stream",
     "text": [
      "6\n"
     ]
    }
   ],
   "source": [
    "import random\n",
    "\n",
    "# Generates a random integer between 5 and 10 (inclusive)\n",
    "random_number = random.randint(5, 10)\n",
    "print(random_number)  # Possible outputs: 5, 6, 7, 8, 9, or 10"
   ]
  },
  {
   "cell_type": "code",
   "execution_count": 21,
   "metadata": {},
   "outputs": [
    {
     "name": "stdout",
     "output_type": "stream",
     "text": [
      "[10, 8, 6]\n"
     ]
    }
   ],
   "source": [
    "def reverse(X):\n",
    "    X = [i * 2 for i in X[::-1]]\n",
    "    return X\n",
    "print(reverse([3,4,5]))"
   ]
  }
 ],
 "metadata": {
  "kernelspec": {
   "display_name": "Python 3",
   "language": "python",
   "name": "python3"
  },
  "language_info": {
   "codemirror_mode": {
    "name": "ipython",
    "version": 3
   },
   "file_extension": ".py",
   "mimetype": "text/x-python",
   "name": "python",
   "nbconvert_exporter": "python",
   "pygments_lexer": "ipython3",
   "version": "3.11.5"
  }
 },
 "nbformat": 4,
 "nbformat_minor": 2
}
